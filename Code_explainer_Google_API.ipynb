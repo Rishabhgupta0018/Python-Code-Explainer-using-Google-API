{
  "nbformat": 4,
  "nbformat_minor": 0,
  "metadata": {
    "colab": {
      "provenance": [],
      "collapsed_sections": [
        "OaGoxClLXoP6",
        "SQW9eevUj8ly",
        "ncg8K6eR7Yu8",
        "95txAkGBPEXu",
        "x0pzfK-gkzJU"
      ]
    },
    "kernelspec": {
      "name": "python3",
      "display_name": "Python 3"
    },
    "language_info": {
      "name": "python"
    }
  },
  "cells": [
    {
      "cell_type": "markdown",
      "source": [
        "## Setup Environment"
      ],
      "metadata": {
        "id": "OaGoxClLXoP6"
      }
    },
    {
      "cell_type": "code",
      "execution_count": 1,
      "metadata": {
        "id": "5kK_XBJ1XHGh",
        "colab": {
          "base_uri": "https://localhost:8080/"
        },
        "outputId": "0a82ba28-0987-451e-f3c9-32d6f4a89988"
      },
      "outputs": [
        {
          "output_type": "stream",
          "name": "stdout",
          "text": [
            "Requirement already satisfied: google-generativeai in /usr/local/lib/python3.10/dist-packages (0.7.2)\n",
            "Requirement already satisfied: google-ai-generativelanguage==0.6.6 in /usr/local/lib/python3.10/dist-packages (from google-generativeai) (0.6.6)\n",
            "Requirement already satisfied: google-api-core in /usr/local/lib/python3.10/dist-packages (from google-generativeai) (2.19.1)\n",
            "Requirement already satisfied: google-api-python-client in /usr/local/lib/python3.10/dist-packages (from google-generativeai) (2.137.0)\n",
            "Requirement already satisfied: google-auth>=2.15.0 in /usr/local/lib/python3.10/dist-packages (from google-generativeai) (2.27.0)\n",
            "Requirement already satisfied: protobuf in /usr/local/lib/python3.10/dist-packages (from google-generativeai) (3.20.3)\n",
            "Requirement already satisfied: pydantic in /usr/local/lib/python3.10/dist-packages (from google-generativeai) (2.8.2)\n",
            "Requirement already satisfied: tqdm in /usr/local/lib/python3.10/dist-packages (from google-generativeai) (4.66.4)\n",
            "Requirement already satisfied: typing-extensions in /usr/local/lib/python3.10/dist-packages (from google-generativeai) (4.12.2)\n",
            "Requirement already satisfied: proto-plus<2.0.0dev,>=1.22.3 in /usr/local/lib/python3.10/dist-packages (from google-ai-generativelanguage==0.6.6->google-generativeai) (1.24.0)\n",
            "Requirement already satisfied: googleapis-common-protos<2.0.dev0,>=1.56.2 in /usr/local/lib/python3.10/dist-packages (from google-api-core->google-generativeai) (1.63.2)\n",
            "Requirement already satisfied: requests<3.0.0.dev0,>=2.18.0 in /usr/local/lib/python3.10/dist-packages (from google-api-core->google-generativeai) (2.31.0)\n",
            "Requirement already satisfied: cachetools<6.0,>=2.0.0 in /usr/local/lib/python3.10/dist-packages (from google-auth>=2.15.0->google-generativeai) (5.4.0)\n",
            "Requirement already satisfied: pyasn1-modules>=0.2.1 in /usr/local/lib/python3.10/dist-packages (from google-auth>=2.15.0->google-generativeai) (0.4.0)\n",
            "Requirement already satisfied: rsa<5,>=3.1.4 in /usr/local/lib/python3.10/dist-packages (from google-auth>=2.15.0->google-generativeai) (4.9)\n",
            "Requirement already satisfied: httplib2<1.dev0,>=0.19.0 in /usr/local/lib/python3.10/dist-packages (from google-api-python-client->google-generativeai) (0.22.0)\n",
            "Requirement already satisfied: google-auth-httplib2<1.0.0,>=0.2.0 in /usr/local/lib/python3.10/dist-packages (from google-api-python-client->google-generativeai) (0.2.0)\n",
            "Requirement already satisfied: uritemplate<5,>=3.0.1 in /usr/local/lib/python3.10/dist-packages (from google-api-python-client->google-generativeai) (4.1.1)\n",
            "Requirement already satisfied: annotated-types>=0.4.0 in /usr/local/lib/python3.10/dist-packages (from pydantic->google-generativeai) (0.7.0)\n",
            "Requirement already satisfied: pydantic-core==2.20.1 in /usr/local/lib/python3.10/dist-packages (from pydantic->google-generativeai) (2.20.1)\n",
            "Requirement already satisfied: grpcio<2.0dev,>=1.33.2 in /usr/local/lib/python3.10/dist-packages (from google-api-core[grpc]!=2.0.*,!=2.1.*,!=2.10.*,!=2.2.*,!=2.3.*,!=2.4.*,!=2.5.*,!=2.6.*,!=2.7.*,!=2.8.*,!=2.9.*,<3.0.0dev,>=1.34.1->google-ai-generativelanguage==0.6.6->google-generativeai) (1.64.1)\n",
            "Requirement already satisfied: grpcio-status<2.0.dev0,>=1.33.2 in /usr/local/lib/python3.10/dist-packages (from google-api-core[grpc]!=2.0.*,!=2.1.*,!=2.10.*,!=2.2.*,!=2.3.*,!=2.4.*,!=2.5.*,!=2.6.*,!=2.7.*,!=2.8.*,!=2.9.*,<3.0.0dev,>=1.34.1->google-ai-generativelanguage==0.6.6->google-generativeai) (1.48.2)\n",
            "Requirement already satisfied: pyparsing!=3.0.0,!=3.0.1,!=3.0.2,!=3.0.3,<4,>=2.4.2 in /usr/local/lib/python3.10/dist-packages (from httplib2<1.dev0,>=0.19.0->google-api-python-client->google-generativeai) (3.1.2)\n",
            "Requirement already satisfied: pyasn1<0.7.0,>=0.4.6 in /usr/local/lib/python3.10/dist-packages (from pyasn1-modules>=0.2.1->google-auth>=2.15.0->google-generativeai) (0.6.0)\n",
            "Requirement already satisfied: charset-normalizer<4,>=2 in /usr/local/lib/python3.10/dist-packages (from requests<3.0.0.dev0,>=2.18.0->google-api-core->google-generativeai) (3.3.2)\n",
            "Requirement already satisfied: idna<4,>=2.5 in /usr/local/lib/python3.10/dist-packages (from requests<3.0.0.dev0,>=2.18.0->google-api-core->google-generativeai) (3.7)\n",
            "Requirement already satisfied: urllib3<3,>=1.21.1 in /usr/local/lib/python3.10/dist-packages (from requests<3.0.0.dev0,>=2.18.0->google-api-core->google-generativeai) (2.0.7)\n",
            "Requirement already satisfied: certifi>=2017.4.17 in /usr/local/lib/python3.10/dist-packages (from requests<3.0.0.dev0,>=2.18.0->google-api-core->google-generativeai) (2024.7.4)\n"
          ]
        }
      ],
      "source": [
        "!pip install google-generativeai"
      ]
    },
    {
      "cell_type": "code",
      "source": [
        "import google.generativeai as palm\n",
        "import os"
      ],
      "metadata": {
        "id": "VF1KrU4urUJP"
      },
      "execution_count": 2,
      "outputs": []
    },
    {
      "cell_type": "markdown",
      "source": [
        "To get started, you'll need to [create an API key](https://developers.generativeai.google/tutorials/setup)."
      ],
      "metadata": {
        "id": "GJ7HQfpqs905"
      }
    },
    {
      "cell_type": "code",
      "source": [
        "#@title Insert PaLM API Key here# Used to securely store your API key\n",
        "from google.colab import userdata\n",
        "GOOGLE_API_KEY=userdata.get('GOOGLE_API_KEY')\n",
        "palm.configure(api_key=GOOGLE_API_KEY)"
      ],
      "metadata": {
        "id": "-rY42uSnXbOG"
      },
      "execution_count": 3,
      "outputs": []
    },
    {
      "cell_type": "code",
      "source": [
        "# Use the palm.list_models function to find available models\n",
        "# PaLM 2 available in 4 sizes: Gecko, Otter, Bison and Unicorn (largest)\n",
        "# https://developers.generativeai.google/models/language\n",
        "\n",
        "models = [m for m in palm.list_models() if 'generateText' in m.supported_generation_methods]\n",
        "model = models[0].name\n",
        "print(model)"
      ],
      "metadata": {
        "id": "6Yz70ZNltkdy",
        "colab": {
          "base_uri": "https://localhost:8080/",
          "height": 34
        },
        "outputId": "d9ce70fd-b13f-491c-abe6-6aa57539d46e"
      },
      "execution_count": 4,
      "outputs": [
        {
          "output_type": "stream",
          "name": "stdout",
          "text": [
            "models/text-bison-001\n"
          ]
        }
      ]
    },
    {
      "cell_type": "markdown",
      "source": [
        "## Simplest Chatbot"
      ],
      "metadata": {
        "id": "SQW9eevUj8ly"
      }
    },
    {
      "cell_type": "code",
      "source": [
        "# Set your input text\n",
        "prompt = \"Why is the sky blue?\"\n",
        "# prompt = \"What is Quantum Computing? Explain like I'm 5.\"\n",
        "\n",
        "completion = palm.generate_text(\n",
        "    model=model,\n",
        "    prompt=prompt,\n",
        "    temperature=0,\n",
        "    # temperature=0 >> more deterministic results // temperature=1 >> more randomness\n",
        "    max_output_tokens=100\n",
        "    # maximum length of response\n",
        ")\n",
        "\n",
        "print(completion.result)"
      ],
      "metadata": {
        "id": "DFnfJtYbXd_E",
        "colab": {
          "base_uri": "https://localhost:8080/",
          "height": 89
        },
        "outputId": "8fa3b333-d6dd-43fd-fa03-4a2a6b2e0110"
      },
      "execution_count": 6,
      "outputs": [
        {
          "output_type": "stream",
          "name": "stdout",
          "text": [
            "The sky is blue because of a phenomenon called Rayleigh scattering. This is the scattering of light by particles that are smaller than the wavelength of light. In the case of the sky, the particles are molecules of nitrogen and oxygen.\n",
            "\n",
            "When sunlight hits these molecules, the blue light is scattered more than the other colors because it has a shorter wavelength. This is because the blue light waves are more likely to interact with the molecules of nitrogen and oxygen. The other colors of light, such as red and\n"
          ]
        }
      ]
    },
    {
      "cell_type": "markdown",
      "source": [
        "## Code Explainer"
      ],
      "metadata": {
        "id": "ncg8K6eR7Yu8"
      }
    },
    {
      "cell_type": "code",
      "source": [
        "def get_completion(prompt):\n",
        "  completion = palm.generate_text(\n",
        "      model=model,\n",
        "      prompt=prompt,\n",
        "      temperature=0,\n",
        "      # The maximum length of the response\n",
        "      max_output_tokens=500,\n",
        "      )\n",
        "  response = completion.result\n",
        "  return response"
      ],
      "metadata": {
        "id": "k9i_yyF47nI_"
      },
      "execution_count": 7,
      "outputs": []
    },
    {
      "cell_type": "markdown",
      "source": [
        "#### Simple Prompting"
      ],
      "metadata": {
        "id": "Xw8MUAUuXKDB"
      }
    },
    {
      "cell_type": "code",
      "source": [
        "# input_code = f\"\"\"\n",
        "# x = [1, 2, 3, 4, 5]\n",
        "# y = [i**2 for i in x if i%2 == 0]\n",
        "# print(y)\n",
        "# \"\"\"\n",
        "\n",
        "input_code = f\"\"\"\n",
        "def my_func(x):\n",
        "    if x > 5:\n",
        "        return \"High\"\n",
        "    else:\n",
        "        return \"Low\"\n",
        "result = my_func(4) + my_func(6) + my_func(4)\n",
        "print(result)\n",
        "\"\"\""
      ],
      "metadata": {
        "id": "t5G6bPh7XZrR"
      },
      "execution_count": 8,
      "outputs": []
    },
    {
      "cell_type": "code",
      "source": [
        "prompt =f\"\"\"\n",
        "Your task is to act as a Python Code Explainer.\n",
        "I'll give you a Code Snippet.\n",
        "Your job is to explain the Code Snippet step-by-step.\n",
        "Also, compute the final output of the code.\n",
        "Code Snippet is shared below, delimited with triple backticks:\n",
        "```\n",
        "{input_code}\n",
        "```\n",
        "\"\"\"\n",
        "\n",
        "print(prompt)"
      ],
      "metadata": {
        "id": "WEt5ZY3mbg_q",
        "colab": {
          "base_uri": "https://localhost:8080/"
        },
        "outputId": "49e4c446-f15f-4b64-9c41-474d013399b6"
      },
      "execution_count": 9,
      "outputs": [
        {
          "output_type": "stream",
          "name": "stdout",
          "text": [
            "\n",
            "Your task is to act as a Python Code Explainer.\n",
            "I'll give you a Code Snippet.\n",
            "Your job is to explain the Code Snippet step-by-step.\n",
            "Also, compute the final output of the code.\n",
            "Code Snippet is shared below, delimited with triple backticks:\n",
            "```\n",
            "\n",
            "def my_func(x):\n",
            "    if x > 5:\n",
            "        return \"High\"\n",
            "    else:\n",
            "        return \"Low\"\n",
            "result = my_func(4) + my_func(6) + my_func(4)\n",
            "print(result)\n",
            "\n",
            "```\n",
            "\n"
          ]
        }
      ]
    },
    {
      "cell_type": "code",
      "source": [
        "print(get_completion(prompt))"
      ],
      "metadata": {
        "id": "BC-jRT70XZ1K",
        "colab": {
          "base_uri": "https://localhost:8080/",
          "height": 277
        },
        "outputId": "2e0d573f-04e4-405b-9128-60052c83c33c"
      },
      "execution_count": 10,
      "outputs": [
        {
          "output_type": "stream",
          "name": "stdout",
          "text": [
            "```\n",
            "The function `my_func` takes an integer as input and returns `High` if the input is greater than 5, otherwise it returns `Low`.\n",
            "\n",
            "The variable `result` is assigned the value of `my_func(4)` + `my_func(6)` + `my_func(4)`.\n",
            "\n",
            "The function `my_func` is called with the argument 4, which is less than 5, so `my_func(4)` returns `Low`.\n",
            "\n",
            "The function `my_func` is called with the argument 6, which is greater than 5, so `my_func(6)` returns `High`.\n",
            "\n",
            "The function `my_func` is called with the argument 4, which is less than 5, so `my_func(4)` returns `Low`.\n",
            "\n",
            "The value of `result` is `Low` + `High` + `Low`, which is `LowHighLow`.\n",
            "\n",
            "The output of the code is `LowHighLow`.\n",
            "```\n"
          ]
        }
      ]
    },
    {
      "cell_type": "markdown",
      "source": [
        "#### Effective Prompting"
      ],
      "metadata": {
        "id": "nD9zWJNRXUsA"
      }
    },
    {
      "cell_type": "code",
      "source": [
        "python_code_examples = f\"\"\"\n",
        "---------------------\n",
        "Example 1: Code Snippet\n",
        "x = 10\n",
        "def foo():\n",
        "    global x\n",
        "    x = 5\n",
        "foo()\n",
        "print(x)\n",
        "\n",
        "Correct answer: 5\n",
        "Explanation: Inside the foo function, the global keyword is used to modify the global variable x to be 5.\n",
        "So, print(x) outside the function prints the modified value, which is 5.\n",
        "---------------------\n",
        "Example 2: Code Snippet\n",
        "def modify_list(input_list):\n",
        "    input_list.append(4)\n",
        "    input_list = [1, 2, 3]\n",
        "my_list = [0]\n",
        "modify_list(my_list)\n",
        "print(my_list)\n",
        "\n",
        "Correct answer: [0, 4]\n",
        "Explanation: Inside the modify_list function, an element 4 is appended to input_list.\n",
        "Then, input_list is reassigned to a new list [1, 2, 3], but this change doesn't affect the original list.\n",
        "So, print(my_list) outputs [0, 4].\n",
        "---------------------\n",
        "\"\"\""
      ],
      "metadata": {
        "id": "BSEXzptRT54S"
      },
      "execution_count": 11,
      "outputs": []
    },
    {
      "cell_type": "code",
      "source": [
        "# language = \"Python\"\n",
        "\n",
        "input_code = f\"\"\"\n",
        " def my_func(x):\n",
        "     if x > 5:\n",
        "         return \"High\"\n",
        "     else:\n",
        "         return \"Low\"\n",
        " result = my_func(4) + my_func(6) + my_func(4)\n",
        " print(result)\n",
        " \"\"\"\n",
        "\n",
        "#input_code = f\"\"\"\n",
        "#def func(x):\n",
        "#   if x > 0:\n",
        "#        return x + func(x-1)\n",
        "#    return 0\n",
        "\n",
        "#result = func(5)\n",
        "#print(result)\n",
        "#\"\"\""
      ],
      "metadata": {
        "id": "Q1EpTB0U_PDJ"
      },
      "execution_count": 12,
      "outputs": []
    },
    {
      "cell_type": "code",
      "source": [
        "prompt = f\"\"\"\n",
        "Your task is to act as a Python Code Explainer.\n",
        "I'll give you a Code Snippet.\n",
        "Your job is to explain the Code Snippet step-by-step.\n",
        "Break down the code into as many steps as possible.\n",
        "Share intermediate checkpoints along with results.\n",
        "State your Steps and Checkpoints in your output.\n",
        "Few good examples of Python code output between #### separator:\n",
        "####\n",
        "{python_code_examples}\n",
        "####\n",
        "Code Snippet is shared below, delimited with triple backticks:\n",
        "```\n",
        "{input_code}\n",
        "```\n",
        "\"\"\"\n",
        "\n",
        "print(prompt)"
      ],
      "metadata": {
        "id": "8H3hyEZTVox2",
        "colab": {
          "base_uri": "https://localhost:8080/"
        },
        "outputId": "cf14cc16-2f04-4b4d-95a8-9e7b9c566969"
      },
      "execution_count": 13,
      "outputs": [
        {
          "output_type": "stream",
          "name": "stdout",
          "text": [
            "\n",
            "Your task is to act as a Python Code Explainer.\n",
            "I'll give you a Code Snippet.\n",
            "Your job is to explain the Code Snippet step-by-step.\n",
            "Break down the code into as many steps as possible.\n",
            "Share intermediate checkpoints along with results.\n",
            "State your Steps and Checkpoints in your output.\n",
            "Few good examples of Python code output between #### separator:\n",
            "####\n",
            "\n",
            "---------------------\n",
            "Example 1: Code Snippet\n",
            "x = 10\n",
            "def foo():\n",
            "    global x\n",
            "    x = 5\n",
            "foo()\n",
            "print(x)\n",
            "\n",
            "Correct answer: 5\n",
            "Explanation: Inside the foo function, the global keyword is used to modify the global variable x to be 5.\n",
            "So, print(x) outside the function prints the modified value, which is 5.\n",
            "---------------------\n",
            "Example 2: Code Snippet\n",
            "def modify_list(input_list):\n",
            "    input_list.append(4)\n",
            "    input_list = [1, 2, 3]\n",
            "my_list = [0]\n",
            "modify_list(my_list)\n",
            "print(my_list)\n",
            "\n",
            "Correct answer: [0, 4]\n",
            "Explanation: Inside the modify_list function, an element 4 is appended to input_list.\n",
            "Then, input_list is reassigned to a new list [1, 2, 3], but this change doesn't affect the original list.\n",
            "So, print(my_list) outputs [0, 4].\n",
            "---------------------\n",
            "\n",
            "####\n",
            "Code Snippet is shared below, delimited with triple backticks:\n",
            "```\n",
            "\n",
            " def my_func(x):\n",
            "     if x > 5:\n",
            "         return \"High\"\n",
            "     else:\n",
            "         return \"Low\"\n",
            " result = my_func(4) + my_func(6) + my_func(4)\n",
            " print(result)\n",
            " \n",
            "```\n",
            "\n"
          ]
        }
      ]
    },
    {
      "cell_type": "code",
      "source": [
        "print(get_completion(prompt))"
      ],
      "metadata": {
        "id": "wqQO__vxPpfi",
        "colab": {
          "base_uri": "https://localhost:8080/",
          "height": 312
        },
        "outputId": "8b04099e-6d46-465c-8dcf-9c442134d85a"
      },
      "execution_count": 14,
      "outputs": [
        {
          "output_type": "stream",
          "name": "stdout",
          "text": [
            "####\n",
            "\n",
            "Step 1: Define a function my_func that takes an integer x as input.\n",
            "\n",
            "Checkpoint 1: my_func is defined.\n",
            "\n",
            "Step 2: Inside the function, check if x is greater than 5. If it is, return \"High\". Otherwise, return \"Low\".\n",
            "\n",
            "Checkpoint 2: The function my_func returns \"High\" if x is greater than 5, and \"Low\" otherwise.\n",
            "\n",
            "Step 3: Define a variable result and assign it the value of my_func(4) + my_func(6) + my_func(4).\n",
            "\n",
            "Checkpoint 3: result is assigned the value of \"Low\" + \"High\" + \"Low\", which is \"LowHighLow\".\n",
            "\n",
            "Step 4: Print the value of result.\n",
            "\n",
            "Checkpoint 4: The output of the program is \"LowHighLow\".\n"
          ]
        }
      ]
    }
  ]
}